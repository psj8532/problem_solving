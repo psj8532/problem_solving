{
 "cells": [
  {
   "cell_type": "markdown",
   "metadata": {},
   "source": [
    "# SW Experts Academy"
   ]
  },
  {
   "cell_type": "markdown",
   "metadata": {},
   "source": [
    "## D1"
   ]
  },
  {
   "cell_type": "markdown",
   "metadata": {},
   "source": [
    "### 2072. 홀수만 더하기"
   ]
  },
  {
   "cell_type": "code",
   "execution_count": 1,
   "metadata": {},
   "outputs": [
    {
     "name": "stdout",
     "output_type": "stream",
     "text": [
      "3\n",
      "3 17 1 39 8 41 2 32 99 2\n",
      "#1 200 \n",
      "22 8 5 123 7 2 63 7 3 46\n",
      "#2 208 \n",
      "6 63 2 3 58 76 21 33 8 1  \n",
      "#3 121 \n"
     ]
    }
   ],
   "source": [
    "n = int(input())\n",
    "\n",
    "result = 0\n",
    "for j in range(1,n+1):\n",
    "    num = list(map(int, input().split())) # 반복문 시행될 때마다 num이라는 list가 초기화 되나?\n",
    "    for i in num:\n",
    "        if i % 2:\n",
    "            result += i\n",
    "    print(f'#{j} {result} ')\n",
    "    result=0"
   ]
  },
  {
   "cell_type": "markdown",
   "metadata": {},
   "source": [
    "### 2071. 평균값 구하기"
   ]
  },
  {
   "cell_type": "code",
   "execution_count": 2,
   "metadata": {},
   "outputs": [
    {
     "name": "stdout",
     "output_type": "stream",
     "text": [
      "3\n",
      "3 17 1 39 8 41 2 32 99 2\n",
      "#1 24\n",
      "22 8 5 123 7 2 63 7 3 46\n",
      "#2 29\n",
      "6 63 2 3 58 76 21 33 8 1\n",
      "#3 27\n"
     ]
    }
   ],
   "source": [
    "n = int(input())\n",
    "\n",
    "for i in range(1,n+1):\n",
    "    num = list(map(int,input().split())) #공백만 구별하나\n",
    "    sum=0\n",
    "    count = len(num)\n",
    "    for j in num:\n",
    "        sum += j\n",
    "    average = round(sum / count)\n",
    "    print(f'#{i} {average}')\n",
    "    \n",
    "        "
   ]
  },
  {
   "cell_type": "markdown",
   "metadata": {},
   "source": [
    "### 2070. 큰 놈, 작은 놈, 같은 놈"
   ]
  },
  {
   "cell_type": "code",
   "execution_count": 8,
   "metadata": {},
   "outputs": [
    {
     "name": "stdout",
     "output_type": "stream",
     "text": [
      "3\n",
      "3 8\n",
      "#1 <\n",
      "7 7\n",
      "#2 =\n",
      "369 123\n",
      "#3 >\n"
     ]
    }
   ],
   "source": [
    "t = int(input())\n",
    "\n",
    "for i in range(1,t+1):\n",
    "    a1,a2 = map(int,input().split())\n",
    "    if a1 > a2:\n",
    "        print(f'#{i} >')\n",
    "    elif a1==a2:\n",
    "        print(f'#{i} =')\n",
    "    else:\n",
    "        print(f'#{i} <')"
   ]
  },
  {
   "cell_type": "markdown",
   "metadata": {},
   "source": [
    "### 2068. 최대수 구하기"
   ]
  },
  {
   "cell_type": "code",
   "execution_count": 6,
   "metadata": {},
   "outputs": [
    {
     "name": "stdout",
     "output_type": "stream",
     "text": [
      "3\n",
      "3 17 1 39 8 41 2 32 99 2\n",
      "1 99\n",
      "22 8 5 123 7 2 63 7 3 46\n",
      "2 123\n",
      "6 63 2 3 58 76 21 33 8 1   \n",
      "3 76\n"
     ]
    }
   ],
   "source": [
    "n = int(input())\n",
    "\n",
    "for i in range(1,n+1):\n",
    "    num = list(map(int, input().split()))\n",
    "    max = 0\n",
    "    for j in num:\n",
    "        if j==num[0]:\n",
    "            max=j\n",
    "        else:\n",
    "            if j > max:\n",
    "                max = j\n",
    "    print(f'#{i} {max}')"
   ]
  },
  {
   "cell_type": "markdown",
   "metadata": {},
   "source": [
    "## 2063. 중간값 찾기"
   ]
  },
  {
   "cell_type": "code",
   "execution_count": null,
   "metadata": {
    "scrolled": true
   },
   "outputs": [],
   "source": [
    "n = int(input())\n",
    "scores = list(map(int, input().split()))\n",
    "l=len(scores)\n",
    "\n",
    "\n",
    "for j in range(1,l):\n",
    "\n",
    "    for i in range(0,l-j):\n",
    "        if scores[i] > scores[i+1]:\n",
    "            scores[i],scores[i+1]=scores[i+1],scores[i]\n",
    "    \n",
    "print(scores[round(n/2)-1])\n"
   ]
  },
  {
   "cell_type": "markdown",
   "metadata": {},
   "source": [
    "### 2058. 자릿수 더하기"
   ]
  },
  {
   "cell_type": "code",
   "execution_count": null,
   "metadata": {},
   "outputs": [],
   "source": [
    "str = input()\n",
    "\n",
    "# if n > 1000:\n",
    "#     a = n//1000\n",
    "#     b = (n-n//1000)/100\n",
    "#     c = ()\n",
    "\n",
    "n = len(str)\n",
    "\n",
    "n1=0\n",
    "\n",
    "for i in range(0,n):\n",
    "    if n==4:\n",
    "        n1 += int(str[i])\n",
    "    elif n==3:\n",
    "        n1 += int(str[i])\n",
    "    elif n==2:\n",
    "        n1 += int(str[i])\n",
    "    else:\n",
    "        n1 = int(str[i])\n",
    "print(n1)"
   ]
  },
  {
   "cell_type": "markdown",
   "metadata": {},
   "source": [
    "### 2056. 연월일 달력"
   ]
  },
  {
   "cell_type": "code",
   "execution_count": null,
   "metadata": {
    "collapsed": true
   },
   "outputs": [],
   "source": [
    "t = int(input())\n",
    "\n",
    "\n",
    "\n",
    "for i in range(1,t+1):\n",
    "    date = input()\n",
    "    if date[4:6] in ['01','03','05','07','08','10','12']:\n",
    "        if 1<=int(date[6:])<=31:\n",
    "            print(f'#{i} {date[0:4]}/{date[4:6]}/{date[6:]}')\n",
    "        else:\n",
    "            print(f'#{i} -1')\n",
    "    elif date[4:6] in ['04','06','09','11']:\n",
    "        if 1<=int(date[6:])<=30:\n",
    "            print(f'#{i} {date[0:4]}/{date[4:6]}/{date[6:]}')\n",
    "        else:\n",
    "            print(f'#{i} -1')\n",
    "    elif date[4:6] =='02':\n",
    "        if 1<=int(date[6:])<=28:\n",
    "            print(f'#{i} {date[0:4]}/{date[4:6]}/{date[6:]}')\n",
    "        else:\n",
    "            print(f'#{i} -1')\n",
    "    else:\n",
    "        print(f'#{i} -1')"
   ]
  },
  {
   "cell_type": "markdown",
   "metadata": {},
   "source": [
    "### 2050. 알파벳을 숫자로 변환"
   ]
  },
  {
   "cell_type": "code",
   "execution_count": 2,
   "metadata": {},
   "outputs": [
    {
     "data": {
      "text/plain": [
       "range(65, 90)"
      ]
     },
     "execution_count": 2,
     "metadata": {},
     "output_type": "execute_result"
    }
   ],
   "source": [
    "range(ord('A'),ord('Z'))"
   ]
  },
  {
   "cell_type": "code",
   "execution_count": 4,
   "metadata": {},
   "outputs": [
    {
     "name": "stdout",
     "output_type": "stream",
     "text": [
      "ABCDEFGHIJKLMNOPQRSTUVWXYZ\n",
      "1 2 3 4 5 6 7 8 9 10 11 12 13 14 15 16 17 18 19 20 21 22 23 24 25 26\n"
     ]
    }
   ],
   "source": [
    "alpha = input()\n",
    "n=len(alpha)\n",
    "result = []\n",
    "if n <= 200:\n",
    "    for i in range(n):\n",
    "        ch = ord(alpha[i]) - 64\n",
    "        result.append(ch)\n",
    "print(*result, sep= ' ')"
   ]
  },
  {
   "cell_type": "markdown",
   "metadata": {},
   "source": [
    "### 2047. 신문 헤드라인"
   ]
  },
  {
   "cell_type": "code",
   "execution_count": 20,
   "metadata": {},
   "outputs": [
    {
     "name": "stdout",
     "output_type": "stream",
     "text": [
      "The_headline_is_the_text_indicating_the_nature_of_the_article_below_it.\n",
      "THE_HEADLINE_IS_THE_TEXT_INDICATING_THE_NATURE_OF_THE_ARTICLE_BELOW_IT.\n"
     ]
    }
   ],
   "source": [
    "m = input()\n",
    "n1 = len(m.split('_'))\n",
    "n = len(m)\n",
    "m1 = []\n",
    "if n < 80:\n",
    "    for i in range(n1):\n",
    "        m1.append(m.split('_')[i].upper())\n",
    "    print(*m1, sep='_')"
   ]
  },
  {
   "cell_type": "markdown",
   "metadata": {},
   "source": [
    "### 2046. 스탬프 찍기"
   ]
  },
  {
   "cell_type": "code",
   "execution_count": 1,
   "metadata": {},
   "outputs": [
    {
     "name": "stdout",
     "output_type": "stream",
     "text": [
      "3\n",
      "###\n"
     ]
    }
   ],
   "source": [
    "n= int(input())\n",
    "\n",
    "print(f'#'*n)"
   ]
  },
  {
   "cell_type": "markdown",
   "metadata": {},
   "source": [
    "### 2043. 서랍의 비밀번호"
   ]
  },
  {
   "cell_type": "code",
   "execution_count": 2,
   "metadata": {},
   "outputs": [
    {
     "name": "stdout",
     "output_type": "stream",
     "text": [
      "123 100\n",
      "24\n"
     ]
    }
   ],
   "source": [
    "p, k = map(int,input().split())\n",
    "\n",
    "count = p-k+1\n",
    "\n",
    "print(count)"
   ]
  },
  {
   "cell_type": "markdown",
   "metadata": {},
   "source": [
    "### 2029. 몫과 나머지 출력하기"
   ]
  },
  {
   "cell_type": "code",
   "execution_count": 5,
   "metadata": {},
   "outputs": [
    {
     "name": "stdout",
     "output_type": "stream",
     "text": [
      "3\n",
      "9 2\n",
      "#1 4 1\n",
      "15 6\n",
      "#2 2 3\n",
      "369 15\n",
      "#3 24 9\n"
     ]
    }
   ],
   "source": [
    "t = int(input())\n",
    "  \n",
    "for i in range(1,t+1):      \n",
    "    a, b = map(int, input().split())\n",
    "    if 1<=a<=10000 and 1<=b<=10000: \n",
    "        quo = a // b\n",
    "        rem = a % b\n",
    "        print(f'#{i} {quo} {rem}')"
   ]
  },
  {
   "cell_type": "markdown",
   "metadata": {},
   "source": [
    "### 2027. 대각선 출력하기"
   ]
  },
  {
   "cell_type": "code",
   "execution_count": 7,
   "metadata": {},
   "outputs": [
    {
     "name": "stdout",
     "output_type": "stream",
     "text": [
      "#++++\n",
      "+#+++\n",
      "++#++\n",
      "+++#+\n",
      "++++#\n"
     ]
    }
   ],
   "source": [
    "for i in range(5):\n",
    "    print('+'*i + '#' + '+'*(5-i-1))"
   ]
  },
  {
   "cell_type": "markdown",
   "metadata": {},
   "source": [
    "### 2025. N줄 덧셈"
   ]
  },
  {
   "cell_type": "code",
   "execution_count": 8,
   "metadata": {},
   "outputs": [
    {
     "name": "stdout",
     "output_type": "stream",
     "text": [
      "10\n",
      "55\n"
     ]
    }
   ],
   "source": [
    "n = int(input())\n",
    "sum=0\n",
    "\n",
    "for i in range(1,n+1):\n",
    "    sum+=i\n",
    "print(sum)"
   ]
  },
  {
   "cell_type": "markdown",
   "metadata": {},
   "source": [
    "### 1938. 아주 간단한 계산기"
   ]
  },
  {
   "cell_type": "code",
   "execution_count": 16,
   "metadata": {},
   "outputs": [
    {
     "name": "stdout",
     "output_type": "stream",
     "text": [
      "8 3\n",
      "11\n",
      "5\n",
      "24\n",
      "2\n"
     ]
    }
   ],
   "source": [
    "a, b = map(int,input().split())\n",
    "if 1<=a<=9 and 1<=a<=9:    \n",
    "    print(a+b)\n",
    "    print(a-b)\n",
    "    print(a*b)\n",
    "    print(a//b)"
   ]
  },
  {
   "cell_type": "markdown",
   "metadata": {},
   "source": [
    "### 1933. 간단한 N의 약수"
   ]
  },
  {
   "cell_type": "code",
   "execution_count": 17,
   "metadata": {},
   "outputs": [
    {
     "name": "stdout",
     "output_type": "stream",
     "text": [
      "10\n",
      "1 2 5 10\n"
     ]
    }
   ],
   "source": [
    "N = int(input())\n",
    "div = []\n",
    "\n",
    "for i in range(1,N+1):\n",
    "    if N % i == 0:\n",
    "        div.append(i)\n",
    "print(*div, sep=' ')\n"
   ]
  },
  {
   "cell_type": "markdown",
   "metadata": {},
   "source": [
    "### 1936. 1대1 가위바위보"
   ]
  },
  {
   "cell_type": "code",
   "execution_count": 19,
   "metadata": {},
   "outputs": [
    {
     "name": "stdout",
     "output_type": "stream",
     "text": [
      "3 2\n",
      "A\n"
     ]
    }
   ],
   "source": [
    "A, B = map(int,input().split())\n",
    "\n",
    "if 1<=A<=3 and 1<=B<=3:\n",
    "    if A < B:\n",
    "        print('B')\n",
    "    else:\n",
    "        print('A')"
   ]
  },
  {
   "cell_type": "markdown",
   "metadata": {},
   "source": [
    "### 2019. 더블더블"
   ]
  },
  {
   "cell_type": "code",
   "execution_count": 23,
   "metadata": {},
   "outputs": [
    {
     "name": "stdout",
     "output_type": "stream",
     "text": [
      "8\n",
      "1 2 4 8 16 32 64 128\n",
      "256\n"
     ]
    }
   ],
   "source": [
    "n = int(input())\n",
    "sqr = []\n",
    "\n",
    "for i in range(n+1):\n",
    "    result = 2**i\n",
    "    sqr.append(result)\n",
    "\n",
    "print(*sqr, sep=' ')\n"
   ]
  },
  {
   "cell_type": "markdown",
   "metadata": {},
   "source": [
    "### 1545. 거꾸로 출력해 보아요"
   ]
  },
  {
   "cell_type": "code",
   "execution_count": 24,
   "metadata": {},
   "outputs": [
    {
     "name": "stdout",
     "output_type": "stream",
     "text": [
      "8\n",
      "8 7 6 5 4 3 2 1 0\n"
     ]
    }
   ],
   "source": [
    "n = int(input())\n",
    "rev = []\n",
    "\n",
    "for i in range(n,-1,-1):\n",
    "    rev.append(i)\n",
    "print(*rev, sep=' ')"
   ]
  },
  {
   "cell_type": "markdown",
   "metadata": {},
   "source": [
    "## D2"
   ]
  },
  {
   "cell_type": "markdown",
   "metadata": {},
   "source": [
    "### 1859. 백만 장자 프로젝트"
   ]
  },
  {
   "cell_type": "code",
   "execution_count": 3,
   "metadata": {
    "scrolled": true
   },
   "outputs": [
    {
     "name": "stdout",
     "output_type": "stream",
     "text": [
      "3\n",
      "3\n",
      "10 7 6\n",
      "#1 0\n",
      "3\n",
      "3 5 9\n",
      "#2 0\n",
      "5\n",
      "1 1 3 1 2\n",
      "#3 1\n"
     ]
    }
   ],
   "source": [
    "t = int(input()) #테스트 갯수\n",
    "\n",
    "for i in range(1,t+1):\n",
    "    \n",
    "    n = int(input()) #숫자의 수\n",
    "    price = list(map(int,input().split())) # 가격을 리스트에 저장\n",
    "    posi = [] # max 값의 인덱스 위치\n",
    "    profit = []\n",
    "    max = [] # max 값들의 리스트\n",
    "    sum = 0 #이윤의 총합\n",
    "    gain = 0 #이윤 저장\n",
    "    x=0\n",
    "\n",
    "    for j in range(n): #\n",
    "        if j==0: # 인덱스[0]에 있는 값을\n",
    "            max.append(price[j]) # 최댓값으로 저장\n",
    "            posi.append(j) # price 리스트에서 최댓값으로 뽑아낸 인덱스의 위치 저장\n",
    "            \n",
    "        else:\n",
    "            if j < n-1:\n",
    "                if price[j]-price[j-1] > 0 and price[j]>=price[j+1]: # 앞 인덱스와 뒤 인덱스보다 클 경우\n",
    "                    max.append(price[j]) # 이 때의 가격을 최댓값 리스트에 추가\n",
    "                    posi.append(j)  # 이때의 price 리스트의 인덱스 위치를 추가      \n",
    "            else:\n",
    "                if price[j]-price[j-1] > 0: # j가 마지막 인덱스일 경우 앞 인덱스와 비교해서 크다면 최댓값이므로\n",
    "                    max.append(price[j]) # max 리스트에 추가\n",
    "                    posi.append(j) # price 리스트의 인덱스 값 추가\n",
    "\n",
    "    if posi[-1] != 0: # 첫날 보다 비싼 날이 존재하여 이윤이 남는 경우\n",
    "        n=len(posi) #위치 기억 리스트의 크기 저장\n",
    "        for k in range(n):  #위치 기억 리스트의 크기를 이용하여 이익 계산\n",
    "            \n",
    "            for r in range(x,posi[k]): ### 판매하여 이익을 얻고 다음 날짜부터 이익을 계산하여 더해야함\n",
    "                                    ### 현재는 다시 첫날부터 이익 계산\n",
    "                gain = max[k] - price[r] \n",
    "                sum += gain\n",
    "                gain = 0\n",
    "            x = posi[k-1]+1\n",
    "    else: # 가격이 계속 떨어져서 이윤이 안남는 경우\n",
    "        sum = 0\n",
    "    print(f'#{i} {sum}')\n",
    "        \n",
    "        "
   ]
  },
  {
   "cell_type": "markdown",
   "metadata": {},
   "source": [
    "### 1926. 간단한 369게임"
   ]
  },
  {
   "cell_type": "code",
   "execution_count": 33,
   "metadata": {},
   "outputs": [
    {
     "name": "stdout",
     "output_type": "stream",
     "text": [
      "36\n",
      "1 2 - 4 5 - 7 8 - 10 11 12 - 14 15 - 17 18 - 20 21 22 - 24 25 - 27 28 - - - - -- - - --\n"
     ]
    }
   ],
   "source": [
    "n = input()\n",
    "l = len(n)\n",
    "num=int(n)\n",
    "count = 0\n",
    "a = []\n",
    "\n",
    "for j in range(1, num+1):\n",
    "    j=str(j) #str변환후 변수에 저장해야 문자열로 바뀜    \n",
    "    for i in range(len(j)):\n",
    "        if j[i] in [\"3\",\"6\",\"9\"]:\n",
    "            count += 1\n",
    "    j=int(j)\n",
    "    if count==2:\n",
    "        a.append('--')\n",
    "    elif count == 1:\n",
    "        a.append('-')\n",
    "    else:\n",
    "        a.append(j)\n",
    "    count=0\n",
    "print(*a, sep=' ')"
   ]
  },
  {
   "cell_type": "markdown",
   "metadata": {},
   "source": [
    "### 2007. 패턴 마디의 길이"
   ]
  },
  {
   "cell_type": "code",
   "execution_count": 1,
   "metadata": {},
   "outputs": [
    {
     "name": "stdout",
     "output_type": "stream",
     "text": [
      "3\n",
      "KOREAKOREAKOREAKOREAKOREAKOREA\n",
      "KOREA\n",
      "#1 5\n",
      "SAMSUNGSAMSUNGSAMSUNGSAMSUNGSA\n",
      "SAMSUNG\n",
      "#2 7\n",
      "GALAXYGALAXYGALAXYGALAXYGALAXY\n",
      "GALAXY\n",
      "#3 6\n"
     ]
    }
   ],
   "source": [
    "t = int(input())\n",
    "for test_case in range(1,t+1):\n",
    "    s = input()\n",
    "    count = 0\n",
    "    n=len(s)\n",
    "    \n",
    "    if n>30: #문자열 길이 초과\n",
    "        s = input()\n",
    "        \n",
    "    for j in range(2,n):\n",
    "        if s[0:j] == s[j:2*j]:\n",
    "            count=j\n",
    "#             print(s[0:j]) 문자열 마디 확인\n",
    "            break\n",
    "\n",
    "    \n",
    "    if j>10: #마디 길이 초과\n",
    "        continue\n",
    "\n",
    "    print(f'#{test_case} {count}')"
   ]
  },
  {
   "cell_type": "markdown",
   "metadata": {},
   "source": [
    "### 2005. 파스칼의 삼각형"
   ]
  },
  {
   "cell_type": "code",
   "execution_count": 6,
   "metadata": {},
   "outputs": [
    {
     "name": "stdout",
     "output_type": "stream",
     "text": [
      "1\n",
      "4\n",
      "#1\n",
      "1\n",
      "1 1\n",
      "1 2 1\n",
      "1 3 3 1\n"
     ]
    }
   ],
   "source": [
    "T = int(input())\n",
    "\n",
    "for test_case in range(1, T+1):\n",
    "    N = int(input())\n",
    "    bef = []\n",
    "    print(f'#{test_case}')\n",
    "    for i in range(1,N+1):\n",
    "        aft = []\n",
    "        if i==1:\n",
    "            aft.append(1)\n",
    "        elif i==2:\n",
    "            aft.append(1)\n",
    "            aft.append(1)\n",
    "        elif i>=3:\n",
    "            aft.append(1)\n",
    "            for j in range(1,i-1):\n",
    "                aft.append(bef[j-1]+bef[j])\n",
    "            aft.append(1)\n",
    "        bef = aft[:] #bef = aft.copy() # 리스트 복사\n",
    "        print(*bef, sep=' ')\n"
   ]
  },
  {
   "cell_type": "code",
   "execution_count": 5,
   "metadata": {},
   "outputs": [
    {
     "name": "stdout",
     "output_type": "stream",
     "text": [
      "[0, 1, 2, 3, 4]\n"
     ]
    }
   ],
   "source": [
    "a=list(range(0,5))\n",
    "print(a)"
   ]
  },
  {
   "cell_type": "markdown",
   "metadata": {},
   "source": [
    "### 2001. 파리퇴치"
   ]
  },
  {
   "cell_type": "code",
   "execution_count": 1,
   "metadata": {},
   "outputs": [
    {
     "name": "stdout",
     "output_type": "stream",
     "text": [
      "1\n",
      "5 2\n",
      "1 3 3 6 7\n",
      "8 13 9 12 8\n",
      "4 16 11 12 6\n",
      "2 4 1 23 2\n",
      "9 13 4 7 3\n",
      "#1 49\n"
     ]
    }
   ],
   "source": [
    "t = int(input())\n",
    "for test_case in range(1,t+1):\n",
    "    n,m = map(int,input().split())\n",
    "    arr = list()\n",
    "    a = list()\n",
    "    max = 0\n",
    "    val = 0\n",
    "    count=0\n",
    "    for _ in range(n): #2차원 배열 입력받기\n",
    "        arr.append(list(map(int,input().split())))\n",
    "\n",
    "    for x in range(n-(m-1)):\n",
    "        for y in range(n-(m-1)):\n",
    "            for i in range(x,x+m): # m*m 배열의 합 계산\n",
    "                for j in range(y,y+m):\n",
    "                    val+=arr[i][j]\n",
    "            a.append(val)\n",
    "            count+=1\n",
    "            val = 0\n",
    "        \n",
    "    for k in range(count):\n",
    "        if k != 0:\n",
    "            if max < a[k]:\n",
    "                max = a[k]\n",
    "            else:\n",
    "                continue\n",
    "        elif k == 0:\n",
    "            max = a[k]\n",
    "            \n",
    "    print(f'#{test_case} {max}')\n",
    "            "
   ]
  },
  {
   "cell_type": "markdown",
   "metadata": {},
   "source": [
    "### 1989. 초심자의 회문 검사"
   ]
  },
  {
   "cell_type": "code",
   "execution_count": 7,
   "metadata": {},
   "outputs": [
    {
     "name": "stdout",
     "output_type": "stream",
     "text": [
      "3\n",
      "level\n",
      "#1 1\n",
      "samsung\n",
      "#2 0\n",
      "eye\n",
      "#3 1\n"
     ]
    }
   ],
   "source": [
    "t = int(input()) \n",
    "for test_case in range(1,t+1):\n",
    "    word = list(input())\n",
    "    l=len(word)\n",
    "    word_reverse = list()\n",
    "    count = 0\n",
    "    result = 0\n",
    "    if 3<=l<=10:\n",
    "        for i in range(l):\n",
    "            word_reverse.append(word[(l-1)-i])\n",
    "#         for i in range(l-1,-1,-1):\n",
    "#             word_reverse[i] = word[(l-1)-i]                \n",
    "        for j in range(l):\n",
    "            if word_reverse[j] == word[j]:\n",
    "                count+=1\n",
    "            else:\n",
    "                continue\n",
    "        if count==l:\n",
    "            result=1\n",
    "        else:\n",
    "            result=0\n",
    "            \n",
    "        print(f'#{test_case} {result}')\n",
    "                "
   ]
  },
  {
   "cell_type": "markdown",
   "metadata": {},
   "source": [
    "### 1986. 지그재그 숫자"
   ]
  },
  {
   "cell_type": "code",
   "execution_count": 3,
   "metadata": {},
   "outputs": [
    {
     "name": "stdout",
     "output_type": "stream",
     "text": [
      "1\n",
      "10\n",
      "#1 -5\n"
     ]
    }
   ],
   "source": [
    "t = int(input())\n",
    "\n",
    "for test_case in range(1,t+1):\n",
    "    n=int(input())\n",
    "    if 1<= n <= 10:\n",
    "        sum = 0\n",
    "        for i in range(1,n+1):\n",
    "            if i % 2 :\n",
    "                sum += i\n",
    "            else:\n",
    "                sum -= i\n",
    "        print(f'#{test_case} {sum}')"
   ]
  },
  {
   "cell_type": "markdown",
   "metadata": {},
   "source": [
    "### 1984. 중간 평균값 구하기"
   ]
  },
  {
   "cell_type": "code",
   "execution_count": 8,
   "metadata": {},
   "outputs": [
    {
     "name": "stdout",
     "output_type": "stream",
     "text": [
      "1\n",
      "3 17 1 39 8 41 2 32 99 2 \n",
      "#1 18\n"
     ]
    }
   ],
   "source": [
    "t = int(input())\n",
    "\n",
    "for test_case in range(1,t+1):\n",
    "    num_list = list(map(int, input().split()))\n",
    "    result = 0\n",
    "    n=len(num_list)\n",
    "    exit=1 # 제약 사항에 걸릴 경우 프로그램 종료용 변수\n",
    "    for i in range(n):\n",
    "        if 0<=num_list[i]<=10000: # 제약 사항\n",
    "            continue           \n",
    "        else:\n",
    "            exit=0\n",
    "    if exit:\n",
    "        num_list.sort()\n",
    "        for i in range(1, n-1):\n",
    "            result += num_list[i]\n",
    "\n",
    "        ave = round((result//(n-2)),0)\n",
    "\n",
    "        print(f'#{test_case} {ave}')"
   ]
  },
  {
   "cell_type": "markdown",
   "metadata": {},
   "source": [
    "### 1983. 조교의 성적 매기기"
   ]
  },
  {
   "cell_type": "code",
   "execution_count": null,
   "metadata": {},
   "outputs": [],
   "source": [
    "import sys\n",
    "sys.stdin=open(\"input.txt\",\"r\")\n",
    "\n",
    "t = int(input())\n",
    "\n",
    "for test_case in range(1,t+1):\n",
    "    n, k = map(int,input().split()) # n:학생수, k:학점 알고 싶은 학생의 번호\n",
    "    score = list(map(int,input().split())) # 학생의 중간, 기말, 과제 점수 저장 리스트\n",
    "    people = []\n",
    "    people.append(score)\n",
    "    print(people)"
   ]
  },
  {
   "cell_type": "code",
   "execution_count": null,
   "metadata": {},
   "outputs": [],
   "source": [
    "t = int(input())\n",
    "n, k = map(int,input().split())\n",
    "people = []\n",
    "for test_case in range(1,n+1):\n",
    "     # n:학생수, k:학점 알고 싶은 학생의 번호\n",
    "    score = list(map(int,input().split())) # 학생의 중간, 기말, 과제 점수 저장 리스트\n",
    "    people.append(score)\n",
    "print(people)"
   ]
  },
  {
   "cell_type": "code",
   "execution_count": null,
   "metadata": {},
   "outputs": [],
   "source": []
  }
 ],
 "metadata": {
  "kernelspec": {
   "display_name": "Python 3",
   "language": "python",
   "name": "python3"
  },
  "language_info": {
   "codemirror_mode": {
    "name": "ipython",
    "version": 3
   },
   "file_extension": ".py",
   "mimetype": "text/x-python",
   "name": "python",
   "nbconvert_exporter": "python",
   "pygments_lexer": "ipython3",
   "version": "3.7.3"
  }
 },
 "nbformat": 4,
 "nbformat_minor": 4
}
